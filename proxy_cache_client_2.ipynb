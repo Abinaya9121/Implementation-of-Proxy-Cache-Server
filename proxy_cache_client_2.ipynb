{
 "cells": [
  {
   "cell_type": "code",
   "execution_count": 2,
   "id": "8f65aab2",
   "metadata": {},
   "outputs": [
    {
     "name": "stdout",
     "output_type": "stream",
     "text": [
      "1\n",
      "b'HTTP/1.1 301 Moved Permanently\\r\\n'b'Location: https://www.facebook.com/\\r\\n'b'Content-Type: text/html; charset=\"utf-8\"\\r\\n'b'X-FB-Debug: GOkAxz3N4HCnU1VikrthrOmBWw0VfiGocjOYw+ltog7ZvGDpjPKVoJJ8V1bDBcjszV0F3GY6bIT4dlOgq6OOHw==\\r\\n'b'Date: Mon, 22 Nov 2021 16:09:29 GMT\\r\\n'b'Alt-Svc: h3=\":443\"; ma=3600, h3-29=\":443\"; ma=3600\\r\\n'b'Connection: keep-alive\\r\\n'b'Content-Length: 0\\r\\n'b'\\r\\n'\n"
     ]
    }
   ],
   "source": [
    "# from cache\n",
    "import socket\n",
    "\n",
    "\n",
    "host = '192.168.1.5'\n",
    "port = 8055\n",
    "\n",
    "message ='GET http://www.facebook.com'\n",
    "#message = str(input())\n",
    "\n",
    "client_socket = socket.socket(socket.AF_INET,socket.SOCK_STREAM)\n",
    "\n",
    "client_socket.connect((host,port))\n",
    "\n",
    "client_socket.send(bytes(message,encoding='utf8'))\n",
    "\n",
    "\n",
    "data = 1\n",
    "while True:\n",
    "    \n",
    "    print(str(data))\n",
    "    \n",
    "    data = client_socket.recv(5000).decode('utf-8')\n",
    "    \n",
    "    if not data:\n",
    "        break\n",
    "    \n",
    "client_socket.close()"
   ]
  },
  {
   "cell_type": "code",
   "execution_count": null,
   "id": "5a05be76",
   "metadata": {},
   "outputs": [],
   "source": []
  }
 ],
 "metadata": {
  "kernelspec": {
   "display_name": "Python 3",
   "language": "python",
   "name": "python3"
  },
  "language_info": {
   "codemirror_mode": {
    "name": "ipython",
    "version": 3
   },
   "file_extension": ".py",
   "mimetype": "text/x-python",
   "name": "python",
   "nbconvert_exporter": "python",
   "pygments_lexer": "ipython3",
   "version": "3.8.8"
  }
 },
 "nbformat": 4,
 "nbformat_minor": 5
}
